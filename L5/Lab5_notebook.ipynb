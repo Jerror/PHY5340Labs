{
 "cells": [
  {
   "cell_type": "markdown",
   "metadata": {},
   "source": [
    "PHY5340 Laboratory 5: Shooting for Eigenvalues and Eigenfunctions\n",
    "\n",
    "Jeremiah O'Neil, SN6498391\n",
    "\n",
    "---"
   ]
  },
  {
   "cell_type": "code",
   "execution_count": 1,
   "metadata": {
    "collapsed": false
   },
   "outputs": [],
   "source": [
    "format shortG\n",
    "% Suppress div-by-zero warnings (lots from RK45). Disabled in MATLAB by default.\n",
    "warning(\"off\",\"Octave:divide-by-zero\")\n",
    "newV = @(pars) (@(x) pars(1)*x.^2 + pars(2)*x.^3 + pars(3)*x.^4);\n",
    "tol = 5e-7;  % for bisect; choose lower for shooter\n",
    "inita = [0, 1e-5];\n",
    "initb = [0, 1e-5];"
   ]
  },
  {
   "cell_type": "markdown",
   "metadata": {},
   "source": [
    "# Case 1: $V(x) = 50x^2 + 2500x^4$"
   ]
  },
  {
   "cell_type": "code",
   "execution_count": 2,
   "metadata": {
    "collapsed": false
   },
   "outputs": [
    {
     "data": {
      "image/png": "[encoded data removed]",
      "text/plain": [
       "<IPython.core.display.Image object>"
      ]
     },
     "metadata": {},
     "output_type": "display_data"
    }
   ],
   "source": [
    "V = newV([50, 0, 2500]);\n",
    "x = [-0.5:0.01:0.5];\n",
    "plot(x, V(x))"
   ]
  },
  {
   "cell_type": "markdown",
   "metadata": {},
   "source": [
    "Choose endpoints and bind a function to shoot for E."
   ]
  },
  {
   "cell_type": "code",
   "execution_count": 3,
   "metadata": {
    "collapsed": false
   },
   "outputs": [
    {
     "name": "stdout",
     "output_type": "stream",
     "text": [
      "solve_TISE.m is the user-defined function defined from: /home/jer/Projects/PHY5340/L5/solve_TISE.m\n",
      "\n",
      "function [ x, u ] = solve_TISE( x0, xend, init, V, E, tol )\n",
      "% use RK45 from Project 2 to integrate the TISE for given V(x) and E from x0 to xend\n",
      "m2_hsqr = 2 / 0.076199682;  % eV^-1 nm^-2\n",
      "[x, u] = RK45(@(x, u)[u(2), m2_hsqr*(V(x) - E)*u(1)], x0, xend, init, tol);\n",
      "end\n",
      "\n",
      "\n",
      "shooter.m is the user-defined function defined from: /home/jer/Projects/PHY5340/L5/shooter.m\n",
      "\n",
      "function [ miss, xa, xb, psia, psib ] = shooter( V, E, x0a, x0b, xm, inita, initb, tol )\n",
      "% Solve the TISE to xm from x0a on the left and x0b on the right and return\n",
      "% the offset 'miss' from the matching condition and the solutions for\n",
      "% increasing x\n",
      "[xa, ua] = solve_TISE( x0a, xm, inita, V, E, tol );\n",
      "[xb, ub] = solve_TISE( x0b, xm, initb, V, E, tol );\n",
      "miss = ua(2,end)/ua(1,end) - ub(2,end)/ub(1,end);\n",
      "psia = ua(1,:);\n",
      "psib = fliplr(ub(1,:));\n",
      "xb = fliplr(xb);\n",
      "end\n",
      "\n",
      "\n"
     ]
    }
   ],
   "source": [
    "x0 = -0.5;  xm = 1e-2;  x1 = 0.5;\n",
    "type('solve_TISE.m')\n",
    "type('shooter.m')\n",
    "% bind parameters, making a shooter function shoot(E)\n",
    "shoot = @(E) shooter( V, E, x0, x1, xm, inita, initb, 0.2*tol );"
   ]
  },
  {
   "cell_type": "markdown",
   "metadata": {},
   "source": [
    "Compute the offset from matching condition 'mismatch' for a grid of\n",
    "energies, starting from the minimum potential below which no solution is\n",
    "possible."
   ]
  },
  {
   "cell_type": "code",
   "execution_count": 4,
   "metadata": {
    "collapsed": false
   },
   "outputs": [],
   "source": [
    "E = [0:0.1:25];\n",
    "% map shoot to E grid\n",
    "mismatch = arrayfun(shoot, E);"
   ]
  },
  {
   "cell_type": "markdown",
   "metadata": {},
   "source": [
    "Plot the mismatch to locate eigenvalues (ie., where mismatch = 0)"
   ]
  },
  {
   "cell_type": "code",
   "execution_count": 5,
   "metadata": {
    "collapsed": false
   },
   "outputs": [
    {
     "data": {
      "image/png": "[encoded data removed]",
      "text/plain": [
       "<IPython.core.display.Image object>"
      ]
     },
     "metadata": {},
     "output_type": "display_data"
    }
   ],
   "source": [
    "plot(E, mismatch)\n",
    "ylim([-500, 500])"
   ]
  },
  {
   "cell_type": "markdown",
   "metadata": {},
   "source": [
    "It appears that every other zero-crossing corresponds to an asymptote -- \n",
    "where a wavefunction derivative is zero at $x_m$ -- so I'll pick out the\n",
    "grid energies about odd-numbered zero crossings in as bounds on my \n",
    "eigenvalues."
   ]
  },
  {
   "cell_type": "code",
   "execution_count": 6,
   "metadata": {
    "collapsed": false
   },
   "outputs": [
    {
     "name": "stdout",
     "output_type": "stream",
     "text": [
      "find_zero_crossings.m is the user-defined function defined from: /home/jer/Projects/PHY5340/L5/find_zero_crossings.m\n",
      "\n",
      "function [ indices ] = find_zero_crossings( x )\n",
      "%return the indices {i} of x where x crosses zero from x(i) to x(i + 1)\n",
      "indices = find(diff(sign(x)));\n",
      "% diff(sign(y)) is nonzero only where the sign changes, ie., at\n",
      "% zero-crossings\n",
      "end\n",
      "\n",
      "\n",
      "Ebounds =\n",
      "\n",
      "           2         6.9        12.9        19.7\n",
      "         2.1           7          13        19.8\n",
      "\n"
     ]
    }
   ],
   "source": [
    "type('find_zero_crossings.m')\n",
    "cross_idcs = find_zero_crossings(mismatch);\n",
    "target_idcs = cross_idcs(1:2:end);  % skip asymptotes\n",
    "Ebounds = [E(target_idcs); E(target_idcs + 1)]\n",
    "Ebounds = Ebounds(:,1:3);  % select first three intervals"
   ]
  },
  {
   "cell_type": "markdown",
   "metadata": {},
   "source": [
    "I'll normalize my eigenfunctions in the standard manner using\n",
    "trapezoid-rule quadrature, and I'll use my function 'find_eig' to find\n",
    "a solution withing energy bounds by the shooting method, through another\n",
    "function 'compute_eigs' which runs find_eig for each interval in Ebounds\n",
    "and packs up the solutions."
   ]
  },
  {
   "cell_type": "code",
   "execution_count": 7,
   "metadata": {
    "collapsed": false
   },
   "outputs": [
    {
     "name": "stdout",
     "output_type": "stream",
     "text": [
      "discrete_trap.m is the user-defined function defined from: /home/jer/Projects/PHY5340/L5/discrete_trap.m\n",
      "\n",
      "function [ result ] = discrete_trap( f, x )\n",
      "% Trapezoid rule quadrature, for discrete f above x, for arbitrary spacing.\n",
      "result = 0.5 * sum(diff(x) .* (f(1:end-1) + f(2:end)));\n",
      "end\n",
      "find_eig.m is the user-defined function defined from: /home/jer/Projects/PHY5340/L5/find_eig.m\n",
      "\n",
      "function [ E, xpsi, est_err, miss, numiter ] = find_eig( shoot, Ea, Eb, tol )\n",
      "% Use bisection rootfinding (from Lab2) to shoot for eigenfunctions,\n",
      "% corresponding to eigenvalues where the mismatch is zero.\n",
      "[E, est_err, numiter] = bisect(50, tol, shoot, Ea, Eb);\n",
      "[miss, xa, xb, psia, psib] = shoot(E);\n",
      "x = [xa, xb];\n",
      "psi = [psia, psib * psia(end)/psib(1)];\n",
      "% Normalize\n",
      "N = (discrete_trap(psi.^2, x))^-0.5;\n",
      "xpsi = [x; N * psi];\n",
      "end\n",
      "\n",
      "\n",
      "compute_eigs.m is the user-defined function defined from: /home/jer/Projects/PHY5340/L5/compute_eigs.m\n",
      "\n",
      "function [ eigE, eigfuncs, miss, est_err, numiter ] = compute_eigs( shoot, Ebounds, tol )\n",
      "% find the eigenvalues between specified bounds using the find_eig function\n",
      "num = size(Ebounds, 2);\n",
      "eigE = zeros(1, num);\n",
      "eigfuncs = cell(1, num);\n",
      "miss = zeros(1, num);\n",
      "est_err = zeros(1, num); numiter = zeros(1, num);\n",
      "for i = 1:num\n",
      "    [eigE(i), eigfuncs{i}, est_err(i), miss(i), numiter(i)] = ...\n",
      "        find_eig( shoot, Ebounds(1,i), Ebounds(2,i), tol );\n",
      "end\n",
      "end\n"
     ]
    }
   ],
   "source": [
    "type('discrete_trap.m')\n",
    "type('find_eig.m')\n",
    "type('compute_eigs.m')\n",
    "[eigE, eigfuncs] = compute_eigs( shoot, Ebounds, tol );"
   ]
  },
  {
   "cell_type": "markdown",
   "metadata": {},
   "source": [
    "Plot the results!"
   ]
  },
  {
   "cell_type": "code",
   "execution_count": 8,
   "metadata": {
    "collapsed": false
   },
   "outputs": [
    {
     "name": "stdout",
     "output_type": "stream",
     "text": [
      "plot_eigs.m is the user-defined function defined from: /home/jer/Projects/PHY5340/L5/plot_eigs.m\n",
      "\n",
      "function [] = plot_eigs( V, eigE, eigfuncs )\n",
      "labels = cell(1, 4);\n",
      "x = [-1:0.01:1];\n",
      "plot(x, V(x)); hold on;\n",
      "labels{1} = ['V(x)'];\n",
      "for i = 1:3\n",
      "    plot(eigfuncs{i}(1,:), eigE(i) + eigfuncs{i}(2,:));\n",
      "    labels{i+1} = ['E = ' num2str(eigE(i))];\n",
      "end\n",
      "legend(labels); hold off;\n",
      "end\n",
      "\n",
      "\n"
     ]
    },
    {
     "data": {
      "image/png": "[encoded data removed]",
      "text/plain": [
       "<IPython.core.display.Image object>"
      ]
     },
     "metadata": {},
     "output_type": "display_data"
    }
   ],
   "source": [
    "type('plot_eigs.m')\n",
    "plot_eigs( V, eigE, eigfuncs );\n",
    "ylim([0, 20]);\n",
    "xlim([-0.5, 0.5]);"
   ]
  },
  {
   "cell_type": "markdown",
   "metadata": {},
   "source": [
    "To ensure the accuracy of my results I'll test the sensitivity of the\n",
    "computed eigenvalues to my choice of endpoints by randomly varying the\n",
    "endpoints and observing if the difference with respect to my solution\n",
    "above is above tolerance."
   ]
  },
  {
   "cell_type": "code",
   "execution_count": 9,
   "metadata": {
    "collapsed": false
   },
   "outputs": [
    {
     "name": "stdout",
     "output_type": "stream",
     "text": [
      "test_endpoint_sensitivity.m is the user-defined function defined from: /home/jer/Projects/PHY5340/L5/test_endpoint_sensitivity.m\n",
      "\n",
      "function [ xd, delta_eigE ] = test_endpoint_sensitivity( trials, partial_shooter, x0, x1, eigE, Ebounds, tol)\n",
      "d = 1.1 + 0.05 * randn(2, trials);\n",
      "x0d = x0 * d(1,:);\n",
      "x1d = x1 * d(2,:);\n",
      "xd = [x0d; x1d];\n",
      "delta_eigE = zeros(3, trials);\n",
      "for i = [1:trials]\n",
      "    shoot = @(E) partial_shooter( E, x0d(i), x1d(i) );\n",
      "    eigEd = compute_eigs( shoot, Ebounds, tol );\n",
      "    delta_eigE(:,i) = eigEd - eigE;\n",
      "end\n",
      "end\n",
      "xd =\n",
      "\n",
      "     -0.5148     -0.5538    -0.52869    -0.55933    -0.54779\n",
      "     0.54146     0.56839      0.5598     0.57731       0.554\n",
      "\n",
      "delta_eigE =\n",
      "\n",
      "           0           0           0           0           0\n",
      "           0           0           0           0           0\n",
      "           0           0           0           0           0\n",
      "\n"
     ]
    }
   ],
   "source": [
    "type('test_endpoint_sensitivity.m')\n",
    "% shooter with parameters partially bound\n",
    "partial_shooter = @(E, x0, x1) shooter( V, E, x0, x1, xm, inita, initb, 0.2*tol );\n",
    "[xd, delta_eigE] = test_endpoint_sensitivity( 5, partial_shooter, x0, x1, eigE, Ebounds, tol)"
   ]
  },
  {
   "cell_type": "markdown",
   "metadata": {},
   "source": [
    "Some choices of endpoints lead to significant differences, but these are\n",
    "outliers; most results agree with mine exactly! (Note, bisection of\n",
    "nearly identical functions on the same interval to the same tolerance\n",
    "should always find the same root though the functions are slightly\n",
    "different.)"
   ]
  },
  {
   "cell_type": "markdown",
   "metadata": {},
   "source": [
    "# Case 2: $V(x) = 50x^2 + 1500x^3 + 2500x^4$\n",
    "Exactly as above, with a new $V(x)$, $x_0$, $x_m$ and $x_1$. "
   ]
  },
  {
   "cell_type": "code",
   "execution_count": 10,
   "metadata": {
    "collapsed": false
   },
   "outputs": [
    {
     "data": {
      "image/png": "[encoded data removed]",
      "text/plain": [
       "<IPython.core.display.Image object>"
      ]
     },
     "metadata": {},
     "output_type": "display_data"
    }
   ],
   "source": [
    "V = newV([50, 1500, 2500]);\n",
    "x = [-0.75:0.01:0.4];\n",
    "plot(x, V(x))\n",
    "ylim([-25, 200]);\n",
    "xlim([-0.8, 0.4]);"
   ]
  },
  {
   "cell_type": "markdown",
   "metadata": {},
   "source": [
    "I'll choose $x_m$ near the center of the lowest part of the well, which I\n",
    "expect to align to the centre of the lowest energy eigenfunctions, and $x_1$\n",
    "and $x_0$ out in the excluded region to roughly the same potential height."
   ]
  },
  {
   "cell_type": "code",
   "execution_count": 11,
   "metadata": {
    "collapsed": true
   },
   "outputs": [],
   "source": [
    "x0 = -0.9;  xm = -0.4;  x1 = 0.5;\n",
    "shoot = @(E) shooter( V, E, x0, x1, xm, inita, initb, 0.2*tol );"
   ]
  },
  {
   "cell_type": "code",
   "execution_count": 12,
   "metadata": {
    "collapsed": true
   },
   "outputs": [],
   "source": [
    "E = [-25:0.1:5];\n",
    "mismatch = arrayfun(shoot, E);"
   ]
  },
  {
   "cell_type": "code",
   "execution_count": 13,
   "metadata": {
    "collapsed": false
   },
   "outputs": [
    {
     "data": {
      "image/png": "[encoded data removed]",
      "text/plain": [
       "<IPython.core.display.Image object>"
      ]
     },
     "metadata": {},
     "output_type": "display_data"
    }
   ],
   "source": [
    "plot(E, mismatch)\n",
    "ylim([-500, 500])"
   ]
  },
  {
   "cell_type": "code",
   "execution_count": 14,
   "metadata": {
    "collapsed": false
   },
   "outputs": [
    {
     "name": "stdout",
     "output_type": "stream",
     "text": [
      "Ebounds =\n",
      "\n",
      "       -19.1          -9        -1.1         2.9\n",
      "         -19        -8.9          -1           3\n",
      "\n"
     ]
    }
   ],
   "source": [
    "cross_idcs = find_zero_crossings(mismatch);\n",
    "target_idcs = cross_idcs(1:2:end);\n",
    "Ebounds = [E(target_idcs); E(target_idcs + 1)]\n",
    "Ebounds = Ebounds(:,1:3);"
   ]
  },
  {
   "cell_type": "code",
   "execution_count": 15,
   "metadata": {
    "collapsed": true
   },
   "outputs": [],
   "source": [
    "[eigE, eigfuncs] = compute_eigs( shoot, Ebounds, tol );"
   ]
  },
  {
   "cell_type": "code",
   "execution_count": 16,
   "metadata": {
    "collapsed": false
   },
   "outputs": [
    {
     "data": {
      "image/png": "[encoded data removed]",
      "text/plain": [
       "<IPython.core.display.Image object>"
      ]
     },
     "metadata": {},
     "output_type": "display_data"
    }
   ],
   "source": [
    "plot_eigs( V, eigE, eigfuncs );\n",
    "xlim([-0.8, 0.5]);\n",
    "ylim([-25, 5]);"
   ]
  },
  {
   "cell_type": "code",
   "execution_count": 17,
   "metadata": {
    "collapsed": false
   },
   "outputs": [
    {
     "name": "stdout",
     "output_type": "stream",
     "text": [
      "xd =\n",
      "\n",
      "    -0.96538    -0.96319     -1.0468    -0.99041    -0.97629\n",
      "     0.52361     0.57126      0.5412     0.53429     0.55555\n",
      "\n",
      "delta_eigE =\n",
      "\n",
      "           0           0           0           0           0\n",
      "           0           0           0  0.00029907           0\n",
      "           0           0           0           0           0\n",
      "\n"
     ]
    }
   ],
   "source": [
    "partial_shooter = @(E, x0, x1) shooter( V, E, x0, x1, xm, inita, initb, 0.2*tol );\n",
    "[xd, delta_eigE] = test_endpoint_sensitivity( 5, partial_shooter, x0, x1, eigE, Ebounds, tol)"
   ]
  },
  {
   "cell_type": "markdown",
   "metadata": {},
   "source": [
    "All good!"
   ]
  },
  {
   "cell_type": "markdown",
   "metadata": {},
   "source": [
    "# Appendix: RK45 and bisect"
   ]
  },
  {
   "cell_type": "code",
   "execution_count": 18,
   "metadata": {
    "collapsed": false
   },
   "outputs": [
    {
     "name": "stdout",
     "output_type": "stream",
     "text": [
      "RK45.m is the user-defined function defined from: /home/jer/Projects/PHY5340/L5/RK45.m\n",
      "\n",
      "function [xx,yy,n_failures]=RK45(f,x0,x_end,y0,tol)\n",
      "%Adaptive step-size 4/5 order Runge Kutta solver, with tolerance tol. The\n",
      "%code below is incomplete and will not run. It has not implemented the\n",
      "%adaptive step size feature. You must\n",
      "%   1) Make sure you understand every line of the code. \n",
      "%   2) Add in the appropriate commands to make the adaptive step size.\n",
      "%%\n",
      "c = [0   1/4    3/8   12/13 1 1/2];\n",
      "b5 =[16/135 0   6656/12825  28561/56430     -9/50   2/55];\n",
      "b4 =[25/216 0   1408/2565   2197/4104   -1/5 0];\n",
      "A=zeros(6);\n",
      "A(2,1)=1/4;\n",
      "A(3,1:2)=[3/32 9/32];\n",
      "A(4,1:3)=[1932/2197   -7200/2197  7296/2197];\n",
      "A(5,1:4)=[439/216     -8      3680/513    -845/4104];\n",
      "A(6,1:5)=[-8/27   2    -3544/2565     1859/4104   -11/40];\n",
      "\n",
      "%ensure that y0 is a column vector\n",
      "y0=y0(:);\n",
      "\n",
      "xx=x0; %initialize\n",
      "yy=y0; %initialize\n",
      "\n",
      "%Find the direction of propagation\n",
      "if x_end>=x0\n",
      "    xdir=1;\n",
      "else\n",
      "    xdir=-1;\n",
      "end\n",
      "\n",
      "%guess an initial step size\n",
      "h=min([abs(x_end-x0)/10,0.1]); %h is always positive \n",
      "\n",
      "\n",
      "x=x0;y=y0;\n",
      "done=false; \n",
      "n_failures=0;\n",
      "dimy=numel(y0);\n",
      "\n",
      "%Main Loop\n",
      "while ~done\n",
      "    failures=false;     %no step-size failures yet\n",
      "    minh=16*eps(x);     %minimum acceptable value of h\n",
      "    if  h<minh\n",
      "        h = minh;\n",
      "    end\n",
      "    %Make sure to hit last step exactly\n",
      "    if abs(x_end-x)<=h\n",
      "        h=abs(x_end-x);\n",
      "        done=true;\n",
      "    end\n",
      "    \n",
      "    %Loop for advancing one step\n",
      "    while true\n",
      "        fn=zeros(6,dimy);                \n",
      "        \n",
      "        %Please study these lines carefully. How do they work? \n",
      "        for i=1:6\n",
      "            fn(i,:)=f(x+xdir*h*c(i),y + xdir*h* (A(i,:)*fn).'  ).';\n",
      "        end        \n",
      "        y5=y+xdir*h*(b5*fn).';\n",
      "        y4=y+xdir*h*(b4*fn).';\n",
      "        \n",
      "        err_rel=max(abs((y4 - y5) ./ y5));\n",
      "        \n",
      "        if err_rel<tol\n",
      "            %accept step and update step size. Do not increase step size by\n",
      "            %more than a factor of ten nor reduce it by more than a factor\n",
      "            %of 2.\n",
      "            x=x+xdir*h;\n",
      "            y=y5;\n",
      "            xx=[xx,x];\n",
      "            yy=[yy,y];\n",
      "            h=h*min([10, 0.9*(tol/err_rel)^(0.2)]); %you must fill this in (may be more than one command)\n",
      "            break\n",
      "        else\n",
      "            %reject step. Reduce h (by at most a factor of 2) and try again \n",
      "            if ~failures\n",
      "                h=h*max([0.2, 0.9*(tol/err_rel)^(0.2)]); %you must fill this in (may be more than one command)\n",
      "                failures=true;\n",
      "                n_failures=n_failures+1;\n",
      "            else\n",
      "                h=h*0.5;\n",
      "            end\n",
      "        end\n",
      "        \n",
      "    end\n",
      "end\n",
      "    \n",
      "    \n",
      "\n",
      "bisect.m is the user-defined function defined from: /home/jer/Projects/PHY5340/L5/bisect.m\n",
      "\n",
      "function [root, est_err, numiter] = bisect(maxiter, tol, func, a, b)\n",
      "% Based on C1_1.m\n",
      "assert(func(a)*func(b) < 0);\n",
      "est_err = 1; numiter = 0;\n",
      "while est_err > tol\n",
      "    numiter = numiter + 1;\n",
      "    mid = (a + b) / 2;\n",
      "    if func(mid)*func(a) < 0\n",
      "        b = mid;\n",
      "    elseif func(mid)*func(b) < 0\n",
      "        a = mid;\n",
      "    end\n",
      "    est_err = abs((a - b) / mid);\n",
      "    if numiter > maxiter, break, end\n",
      "end\n",
      "root = mid;\n",
      "end\n"
     ]
    }
   ],
   "source": [
    "type('RK45.m')\n",
    "type('bisect.m')"
   ]
  }
 ],
 "metadata": {
  "kernelspec": {
   "display_name": "Octave",
   "language": "octave",
   "name": "octave"
  },
  "language_info": {
   "file_extension": ".m",
   "help_links": [
    {
     "text": "GNU Octave",
     "url": "https://www.gnu.org/software/octave/support.html"
    },
    {
     "text": "Octave Kernel",
     "url": "https://github.com/Calysto/octave_kernel"
    },
    {
     "text": "MetaKernel Magics",
     "url": "https://github.com/calysto/metakernel/blob/master/metakernel/magics/README.md"
    }
   ],
   "mimetype": "text/x-octave",
   "name": "octave",
   "version": "4.2.1"
  }
 },
 "nbformat": 4,
 "nbformat_minor": 2
}
