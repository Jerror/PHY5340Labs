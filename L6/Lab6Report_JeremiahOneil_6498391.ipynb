{
 "cells": [
  {
   "cell_type": "markdown",
   "metadata": {},
   "source": [
    "PHY5340 Laboratory 6: Finite Differences\n",
    "\n",
    "Jeremiah O'Neil, SN6498391\n",
    "\n",
    "---"
   ]
  },
  {
   "cell_type": "markdown",
   "metadata": {},
   "source": [
    "# Finite Differences for Eigenvalues and Eigenfunctions"
   ]
  },
  {
   "cell_type": "code",
   "execution_count": 1,
   "metadata": {
    "collapsed": true
   },
   "outputs": [],
   "source": [
    "newV = @(pars) (@(x) pars(1)*x.^2 + pars(2)*x.^3 + pars(3)*x.^4);"
   ]
  },
  {
   "cell_type": "markdown",
   "metadata": {},
   "source": [
    "I've adapted a finite-difference time-independent Schroedinger equation BVP solver from C16_3; it creates a grid between (including) endpoints $x_0$ and $x_1$ with $N$ points (separated by the corresponding even spacing $h$) and returns the first $numret$ eigenvalues and normalized eigenfunctions after $Ne$ Lanczos iterations."
   ]
  },
  {
   "cell_type": "code",
   "execution_count": 2,
   "metadata": {
    "collapsed": false
   },
   "outputs": [
    {
     "name": "stdout",
     "output_type": "stream",
     "text": [
      "tise_fd.m is the user-defined function defined from: /home/jer/Projects/PHY5340/labs/L6/tise_fd.m\n",
      "\n",
      "function [eigE, eigfuncs, x] = tise_fd(V, x0, xend, N, Ne, numret)\n",
      "%finite differences for time-independent schroedinger equation\n",
      "%adapted from C16_3\n",
      "% assuming psi(x0) = 0 = psi(xend)\n",
      "m2_hsqr = 2 / 0.076199682;  % eV^-1 nm^-2\n",
      "\n",
      "% linspace is the most reliable way to make N evenly spaced points.\n",
      "% Jacob's code in C16_3 would be wrong for non-integer x0 and xend\n",
      "x = linspace(x0, xend, N+2);\n",
      "x = x(2:end-1);\n",
      "h = x(2) - x(1);\n",
      "\n",
      "% I'll generate the sparse matrix directly for efficiency\n",
      "offdiag = -1/h^2 * ones(1,N-1);\n",
      "diags = [offdiag,0; 2/h^2 + m2_hsqr*V(x); 0,offdiag].';\n",
      "D = spdiags(diags, [-1,0,1], N, N);\n",
      "\n",
      "[eigfuncs, e] = eigs(D, Ne, 'sa');\n",
      "eigE = diag(e);\n",
      "eigE = eigE(end-numret+1:end) ./ m2_hsqr;\n",
      "eigfuncs = eigfuncs(:,end-numret+1:end).';\n",
      "for i = [1:numret]  % normalize eigenfunctions\n",
      "    C = discrete_trap(eigfuncs(i,:).^2, x)^-0.5;\n",
      "    if (eigfuncs(i,floor(0.5*N)-1) < 0)\n",
      "        C = -C;  % choose wavefunction positive left of centre\n",
      "    end\n",
      "    eigfuncs(i,:) = C * eigfuncs(i,:);\n",
      "end\n",
      "\n",
      "end\n",
      "\n"
     ]
    }
   ],
   "source": [
    "type('tise_fd.m')"
   ]
  },
  {
   "cell_type": "markdown",
   "metadata": {},
   "source": [
    "I'll plot the results procedurally with a function,"
   ]
  },
  {
   "cell_type": "code",
   "execution_count": 3,
   "metadata": {
    "collapsed": false
   },
   "outputs": [
    {
     "name": "stdout",
     "output_type": "stream",
     "text": [
      "plot_eigs.m is the user-defined function defined from: /home/jer/Projects/PHY5340/labs/L6/plot_eigs.m\n",
      "\n",
      "function [] = plot_eigs( x, V, eigE, eigfuncs )\n",
      "labels = cell(1, numel(eigE)+1);\n",
      "plot(x, V(x)); hold on;\n",
      "labels{1} = ['V(x)'];\n",
      "for i = [1:numel(eigE)]\n",
      "    plot(x, eigE(i) + eigfuncs(i,:));\n",
      "    labels{i+1} = ['E = ' num2str(eigE(i))];\n",
      "end\n",
      "legend(labels); hold off;\n",
      "end\n",
      "\n"
     ]
    }
   ],
   "source": [
    "type('plot_eigs.m')"
   ]
  },
  {
   "cell_type": "markdown",
   "metadata": {},
   "source": [
    "and prove that the results are insensitive to the choices of $x_0$, $x_1$ and $N$ (hence $h$) using a function which checks the difference of the computed eigenvalues with respect to eigenvalues computed for perturbed parameters."
   ]
  },
  {
   "cell_type": "code",
   "execution_count": 4,
   "metadata": {
    "collapsed": false
   },
   "outputs": [
    {
     "name": "stdout",
     "output_type": "stream",
     "text": [
      "test_sensitivity.m is the user-defined function defined from: /home/jer/Projects/PHY5340/labs/L6/test_sensitivity.m\n",
      "\n",
      "function [ xd, Nd, delta_eigE ] = test_sensitivity(trials, partial_solver, ...\n",
      "                                                   x0, x1, N, eigE)\n",
      "d = 1.1 + 0.05 * randn(3, trials);\n",
      "x0d = x0 * d(1,:);\n",
      "x1d = x1 * d(2,:);\n",
      "xd = [x0d; x1d];\n",
      "Nd = ceil(N * d(3,:));\n",
      "delta_eigE = zeros(numel(eigE), trials);\n",
      "for i = [1:trials]\n",
      "    eigEd = partial_solver( x0d(i), x1d(i), Nd(i) );\n",
      "    delta_eigE(:,i) = eigEd - eigE;\n",
      "end\n",
      "end\n",
      "\n"
     ]
    }
   ],
   "source": [
    "type('test_sensitivity.m')"
   ]
  },
  {
   "cell_type": "markdown",
   "metadata": {},
   "source": [
    "## Part 1: Symmetric Potential"
   ]
  },
  {
   "cell_type": "code",
   "execution_count": 5,
   "metadata": {
    "collapsed": false
   },
   "outputs": [],
   "source": [
    "V = newV([50, 0, 2500]);\n",
    "% bind potential, num Lanczos iters, num returned eigs to solver\n",
    "part1_solver = @(x0, x1, N) tise_fd(V, x0, x1, N, 100, 3);\n",
    "% choose endpoints and grid size and solve\n",
    "x0 = -0.5; x1 = 0.5; N = 2000;\n",
    "[eigE, eigfuncs, x] = part1_solver(x0, x1, N);"
   ]
  },
  {
   "cell_type": "code",
   "execution_count": 6,
   "metadata": {
    "collapsed": false
   },
   "outputs": [
    {
     "data": {
      "image/png": "[encoded data removed]",
      "text/plain": [
       "<IPython.core.display.Image object>"
      ]
     },
     "metadata": {},
     "output_type": "display_data"
    }
   ],
   "source": [
    "plot_eigs(x, V, eigE, eigfuncs);\n",
    "xlim([-0.5, 0.5]);\n",
    "ylim([0, 20]);"
   ]
  },
  {
   "cell_type": "code",
   "execution_count": 7,
   "metadata": {
    "collapsed": false
   },
   "outputs": [
    {
     "name": "stdout",
     "output_type": "stream",
     "text": [
      "xd =\n",
      "\n",
      "  -0.53587  -0.53002  -0.53240  -0.53486  -0.51705\n",
      "   0.59938   0.57406   0.51600   0.52407   0.56587\n",
      "\n",
      "Nd =\n",
      "\n",
      "   2194   2245   2118   2187   2223\n",
      "\n",
      "delta_eigE =\n",
      "\n",
      "  -3.7359e-06   1.5879e-06   9.4649e-07   3.1176e-06   2.5301e-06\n",
      "  -1.1327e-06   5.0473e-07   3.0653e-07   9.7512e-07   7.9388e-07\n",
      "  -1.6797e-07   7.5888e-08   4.6295e-08   1.4583e-07   1.1889e-07\n",
      "\n"
     ]
    }
   ],
   "source": [
    "[xd, Nd, delta_eigE] = test_sensitivity(5, part1_solver, x0, x1, N, eigE)"
   ]
  },
  {
   "cell_type": "markdown",
   "metadata": {},
   "source": [
    "The average (even maximum) difference versus eigenvalues computed for these perturbed parameters is smaller than the fifth significant figure of the computed eigenvalues, so I'm confident that I've got the eigenvalues correct to 5 figures."
   ]
  },
  {
   "cell_type": "markdown",
   "metadata": {},
   "source": [
    "## Part 2: Asymmetric Potential"
   ]
  },
  {
   "cell_type": "code",
   "execution_count": 8,
   "metadata": {
    "collapsed": false
   },
   "outputs": [],
   "source": [
    "V = newV([50, 1500, 2500]);\n",
    "part2_solver = @(x0, x1, N) tise_fd(V, x0, x1, N, 100, 3);\n",
    "x0 = -0.9; x1 = 0.5; N = 3000;\n",
    "[eigE, eigfuncs, x] = part2_solver(x0, x1, N);"
   ]
  },
  {
   "cell_type": "code",
   "execution_count": 9,
   "metadata": {
    "collapsed": false
   },
   "outputs": [
    {
     "data": {
      "image/png": "[encoded data removed]",
      "text/plain": [
       "<IPython.core.display.Image object>"
      ]
     },
     "metadata": {},
     "output_type": "display_data"
    }
   ],
   "source": [
    "plot_eigs(x, V, eigE, eigfuncs);\n",
    "xlim([-0.8, 0.4]);\n",
    "ylim([-25, 5]);"
   ]
  },
  {
   "cell_type": "code",
   "execution_count": 10,
   "metadata": {
    "collapsed": false
   },
   "outputs": [
    {
     "name": "stdout",
     "output_type": "stream",
     "text": [
      "xd =\n",
      "\n",
      "  -1.02722  -1.02636  -0.99249  -0.94614  -0.97796\n",
      "   0.53598   0.58071   0.53265   0.56737   0.55343\n",
      "\n",
      "Nd =\n",
      "\n",
      "   3465   3216   3451   3283   3302\n",
      "\n",
      "delta_eigE =\n",
      "\n",
      "   3.8667e-06  -8.6788e-06   6.0993e-06   1.4211e-06   7.2719e-07\n",
      "   2.6635e-06  -5.9783e-06   4.2014e-06   9.7890e-07   5.0087e-07\n",
      "   6.8531e-07  -1.5381e-06   1.0809e-06   2.5180e-07   1.2888e-07\n",
      "\n"
     ]
    }
   ],
   "source": [
    "[xd, Nd, delta_eigE] = test_sensitivity(5, part2_solver, x0, x1, N, eigE)"
   ]
  },
  {
   "cell_type": "markdown",
   "metadata": {},
   "source": [
    "The plotted eigenvalues are insensitive to the parameters $x_0$, $x_1$ and $N$ (ie., $h$) to more than 5 significant figures."
   ]
  },
  {
   "cell_type": "markdown",
   "metadata": {},
   "source": [
    "# Finite Differences for Nonlinear ODE"
   ]
  },
  {
   "cell_type": "markdown",
   "metadata": {},
   "source": [
    "The Thomas-Fermi equation\n",
    "$$ \\sqrt{r} n'' = n^{3/2} $$\n",
    "discretized to first-order is\n",
    "$$ \\sqrt{r_i} \\left( \\frac{n_{i+1} - 2 n_i + n_{i-1}}{h^2} \\right) = n_i^{3/2}. $$\n",
    "Rearranging to factor out $n_i$ gives\n",
    "$$ n_i \\left( \\sqrt{n_i} + 2 \\frac{\\sqrt{r_i}}{h^2}\\right) = \\frac{\\sqrt{r_i}}{h^2} \\left( n_{i+1} + n_{i-1} \\right) $$\n",
    "and dividing through by $\\sqrt{r_i} / h^2$ I obtain\n",
    "$$ n_i \\left(h^2\\sqrt{n_i / r_i} + 2\\right) = n_{i+1} + n_{i-1}, $$\n",
    "and thus\n",
    "$$ n_i = \\frac{n_{i+1} + n_{i-1}}{h^2\\sqrt{n_i / r_i} + 2}. $$\n",
    "This form is good for computation, and I'll use it in my Gauss-Seidel algorithm. It agrees with literature upon multiplying the left-hand side by $\\frac{\\sqrt{r_i} / h^2}{\\sqrt{r_i} / h^2}.$"
   ]
  },
  {
   "cell_type": "code",
   "execution_count": 11,
   "metadata": {
    "collapsed": false
   },
   "outputs": [
    {
     "name": "stdout",
     "output_type": "stream",
     "text": [
      "thomas_fermi_fd.m is the user-defined function defined from: /home/jer/Projects/PHY5340/labs/L6/thomas_fermi_fd.m\n",
      "\n",
      "function [n, iter, rel_err] = thomas_fermi_fd(n, r, alpha, tol, max_iter)\n",
      "%adapted from C16_2\n",
      "N = numel(r);\n",
      "h = r(2) - r(1);\n",
      "nn = n;\n",
      "iter = 0; done = false;\n",
      "while ~done\n",
      "    iter = iter + 1;\n",
      "    if iter > max_iter\n",
      "        disp('max iteration exceeded')\n",
      "        break\n",
      "    end\n",
      "    for i = [2:N-1]\n",
      "        % Gauss-Seidel\n",
      "        n(i) = (nn(i+1) + n(i-1)) / (h^2 * (nn(i) / r(i))^.5 + 2);\n",
      "        % Over-relaxation\n",
      "        n(i) = n(i) + alpha * (n(i) - nn(i));\n",
      "    end\n",
      "    rel_err = abs((n - nn)./n);\n",
      "    rel_err(isnan(rel_err)) = 0;\n",
      "    if all(rel_err < tol)\n",
      "        done = true;\n",
      "    end\n",
      "    nn = n;   \n",
      "end\n",
      "end\n",
      "\n"
     ]
    }
   ],
   "source": [
    "type('thomas_fermi_fd.m')"
   ]
  },
  {
   "cell_type": "markdown",
   "metadata": {},
   "source": [
    "As an initial guess I'll take $n$ linear between the boundary values 1 and 0 at $r =$ 0 and 100. The Gauss-Siedel method gives the result to a relative tolerance of 1e-5 as plotted below:"
   ]
  },
  {
   "cell_type": "code",
   "execution_count": 12,
   "metadata": {
    "collapsed": false
   },
   "outputs": [
    {
     "data": {
      "image/png": "[encoded data removed]",
      "text/plain": [
       "<IPython.core.display.Image object>"
      ]
     },
     "metadata": {},
     "output_type": "display_data"
    }
   ],
   "source": [
    "r = linspace(0, 100, 101);\n",
    "n_init = linspace(1, 0, 101);\n",
    "plot(r, n_init); hold on;\n",
    "n = thomas_fermi_fd(n_init, r, 0, 1e-5, 10000);\n",
    "plot(r, n); hold off;\n",
    "legend('Initial guess', 'Converged solution')"
   ]
  },
  {
   "cell_type": "markdown",
   "metadata": {},
   "source": [
    "A good choice of over-relaxation parameter could enable the method to converge faster; I'll plot the number of iterations required for convergence versus the over-relaxation parameter for 20 values below."
   ]
  },
  {
   "cell_type": "code",
   "execution_count": 13,
   "metadata": {
    "collapsed": false
   },
   "outputs": [
    {
     "data": {
      "image/png": "[encoded data removed]",
      "text/plain": [
       "<IPython.core.display.Image object>"
      ]
     },
     "metadata": {},
     "output_type": "display_data"
    }
   ],
   "source": [
    "N = 20;\n",
    "numiter = zeros(1, N);\n",
    "# want alpha to be N evenly spaced values in [0,1)\n",
    "# this sort of thing is why FORTRAN indexing sucks\n",
    "alpha = linspace(0, 1, N+1);\n",
    "alpha = alpha(1:end-1);\n",
    "for i = [1:N]\n",
    "    [~, numiter(i)] = thomas_fermi_fd(n_init, r, alpha(i), 1e-5, 10000);\n",
    "end\n",
    "plot(alpha, numiter)"
   ]
  },
  {
   "cell_type": "markdown",
   "metadata": {
    "collapsed": true
   },
   "source": [
    "The algorithm converges nearly an order of magnitude faster for a good choice of over-relaxation parameter, but the method slows down in the limit as the parameter approaches 1. I expect it would fail if the parameter were taken too large."
   ]
  }
 ],
 "metadata": {
  "kernelspec": {
   "display_name": "Octave",
   "language": "octave",
   "name": "octave"
  },
  "language_info": {
   "file_extension": ".m",
   "help_links": [
    {
     "text": "GNU Octave",
     "url": "https://www.gnu.org/software/octave/support.html"
    },
    {
     "text": "Octave Kernel",
     "url": "https://github.com/Calysto/octave_kernel"
    },
    {
     "text": "MetaKernel Magics",
     "url": "https://github.com/calysto/metakernel/blob/master/metakernel/magics/README.md"
    }
   ],
   "mimetype": "text/x-octave",
   "name": "octave",
   "version": "4.2.1"
  }
 },
 "nbformat": 4,
 "nbformat_minor": 2
}
