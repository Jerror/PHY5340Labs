{
 "cells": [
  {
   "cell_type": "markdown",
   "metadata": {},
   "source": [
    "PHY5340 Laboratory 6: Finite Differences\n",
    "\n",
    "Jeremiah O'Neil, SN6498391\n",
    "\n",
    "---"
   ]
  },
  {
   "cell_type": "markdown",
   "metadata": {},
   "source": [
    "# Finite Differences for Eigenvalues and Eigenfunctions"
   ]
  },
  {
   "cell_type": "code",
   "execution_count": null,
   "metadata": {
    "collapsed": true
   },
   "outputs": [],
   "source": [
    "newV = @(pars) (@(x) pars(1)*x.^2 + pars(2)*x.^3 + pars(3)*x.^4);"
   ]
  },
  {
   "cell_type": "code",
   "execution_count": null,
   "metadata": {
    "collapsed": false
   },
   "outputs": [],
   "source": [
    "%type('tise_fd.m')\n",
    "V = newV([50, 0, 2500]);\n",
    "[eigE, eigfuncs, x] = tise_fd(V, -0.5, 0.5, 2000, 100, 3);"
   ]
  },
  {
   "cell_type": "code",
   "execution_count": null,
   "metadata": {
    "collapsed": false
   },
   "outputs": [],
   "source": [
    "%type('plot_eigs.m')\n",
    "plot_eigs(x, V, eigE, eigfuncs)\n",
    "xlim([-0.5, 0.5])\n",
    "ylim([0, 20])"
   ]
  },
  {
   "cell_type": "code",
   "execution_count": null,
   "metadata": {
    "collapsed": false
   },
   "outputs": [],
   "source": [
    "V = newV([50, 1500, 2500]);\n",
    "[eigE, eigfuncs, x] = tise_fd(V, -0.9, 0.5, 2000, 100, 3);\n",
    "plot_eigs(x, V, eigE, eigfuncs)\n",
    "xlim([-0.8, 0.4]);\n",
    "ylim([-25, 5]);"
   ]
  },
  {
   "cell_type": "markdown",
   "metadata": {},
   "source": [
    "# Finite Differences for Nonlinear ODE"
   ]
  },
  {
   "cell_type": "code",
   "execution_count": null,
   "metadata": {
    "collapsed": false
   },
   "outputs": [],
   "source": [
    "%type('thomas_fermi_fd.m')\n",
    "r = linspace(0, 100, 101);\n",
    "n_init = linspace(1, 0, 101);\n",
    "plot(r, n_init); hold on;\n",
    "n = thomas_fermi_fd(n_init, r, 0, 1e-5, 10000);\n",
    "plot(r, n); hold off;"
   ]
  },
  {
   "cell_type": "code",
   "execution_count": null,
   "metadata": {
    "collapsed": false
   },
   "outputs": [],
   "source": [
    "N = 20;\n",
    "numiter = zeros(1, N);\n",
    "# want alpha to be N evenly spaced values in [0,1)\n",
    "# this sort of thing is why FORTRAN indexing sucks\n",
    "alpha = linspace(0, 1, N+1);\n",
    "alpha = alpha(1:end-1);\n",
    "for i = [1:N]\n",
    "    [~, numiter(i)] = thomas_fermi_fd(n_init, r, alpha(i), 1e-5, 10000);\n",
    "end\n",
    "plot(alpha, numiter)"
   ]
  }
 ],
 "metadata": {
  "kernelspec": {
   "display_name": "Octave",
   "language": "octave",
   "name": "octave"
  },
  "language_info": {
   "file_extension": ".m",
   "help_links": [
    {
     "text": "GNU Octave",
     "url": "https://www.gnu.org/software/octave/support.html"
    },
    {
     "text": "Octave Kernel",
     "url": "https://github.com/Calysto/octave_kernel"
    },
    {
     "text": "MetaKernel Magics",
     "url": "https://github.com/calysto/metakernel/blob/master/metakernel/magics/README.md"
    }
   ],
   "mimetype": "text/x-octave",
   "name": "octave",
   "version": "4.2.1"
  }
 },
 "nbformat": 4,
 "nbformat_minor": 2
}
